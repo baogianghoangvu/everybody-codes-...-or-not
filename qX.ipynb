{
 "cells": [
  {
   "cell_type": "markdown",
   "id": "403530bc-d2d2-4b63-90f6-7c41c5f35027",
   "metadata": {},
   "source": [
    "# Prep https://adventofcode.com/202"
   ]
  },
  {
   "cell_type": "code",
   "execution_count": null,
   "id": "0b03984d-3bd9-4725-bc0a-5b714b8a013c",
   "metadata": {},
   "outputs": [],
   "source": [
    "import collections\n",
    "import copy\n",
    "import datetime as dt\n",
    "import functools\n",
    "import heapq\n",
    "import itertools\n",
    "import math\n",
    "import re\n",
    "import string\n",
    "import time\n",
    "from pathlib import Path\n",
    "from pprint import pprint\n",
    "\n",
    "import ipdb\n",
    "import networkx as nx\n",
    "import numpy as np\n",
    "import pandas as pd\n",
    "import pandas_shortcuts"
   ]
  },
  {
   "cell_type": "code",
   "execution_count": null,
   "id": "0b4e07e8-4bec-4fa4-9f0e-1dee16c123ee",
   "metadata": {},
   "outputs": [],
   "source": [
    "puzz = \"\"\"\n",
    "\"\"\".strip(\n",
    "    \"\\n\"\n",
    ").split(\n",
    "    \"\\n\"\n",
    ")\n",
    "puzz = Path(\"./day.txt\").read_text().splitlines()"
   ]
  },
  {
   "cell_type": "code",
   "execution_count": null,
   "id": "5386d828-a5e0-47fd-9f08-0f571a7da437",
   "metadata": {},
   "outputs": [],
   "source": [
    "puzz[:5]"
   ]
  },
  {
   "cell_type": "markdown",
   "id": "15d6c3f9-b181-458b-be6a-7afa018276b1",
   "metadata": {},
   "source": [
    "# Plei"
   ]
  },
  {
   "cell_type": "markdown",
   "id": "31bf991e-81d3-4f05-b5f8-328f821a3dc8",
   "metadata": {},
   "source": [
    "## Part 1"
   ]
  },
  {
   "cell_type": "code",
   "execution_count": null,
   "id": "680a7869-175d-4599-bd5e-3ddc9af21e54",
   "metadata": {},
   "outputs": [],
   "source": []
  },
  {
   "cell_type": "markdown",
   "id": "d408f454-72e5-44d9-89a6-6b434f64f56e",
   "metadata": {},
   "source": [
    "## Part 2"
   ]
  },
  {
   "cell_type": "code",
   "execution_count": null,
   "id": "d1c3bc8e-cff8-49b8-8bd3-045644e451fc",
   "metadata": {},
   "outputs": [],
   "source": []
  }
 ],
 "metadata": {
  "kernelspec": {
   "display_name": "bghv",
   "language": "python",
   "name": "bghv"
  },
  "language_info": {
   "codemirror_mode": {
    "name": "ipython",
    "version": 3
   },
   "file_extension": ".py",
   "mimetype": "text/x-python",
   "name": "python",
   "nbconvert_exporter": "python",
   "pygments_lexer": "ipython3",
   "version": "3.12.4"
  }
 },
 "nbformat": 4,
 "nbformat_minor": 5
}
